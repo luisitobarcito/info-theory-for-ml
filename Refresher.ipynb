{
  "nbformat": 4,
  "nbformat_minor": 0,
  "metadata": {
    "colab": {
      "name": "Refresher.ipynb",
      "provenance": [],
      "include_colab_link": true
    },
    "kernelspec": {
      "name": "python3",
      "display_name": "Python 3"
    }
  },
  "cells": [
    {
      "cell_type": "markdown",
      "metadata": {
        "id": "view-in-github",
        "colab_type": "text"
      },
      "source": [
        "<a href=\"https://colab.research.google.com/github/luisitobarcito/info-theory-for-ml/blob/master/Refresher.ipynb\" target=\"_parent\"><img src=\"https://colab.research.google.com/assets/colab-badge.svg\" alt=\"Open In Colab\"/></a>"
      ]
    },
    {
      "cell_type": "markdown",
      "metadata": {
        "id": "wqL6rCCrYYE-",
        "colab_type": "text"
      },
      "source": [
        "# Simulating the orange apples example from the probability refresher\n",
        "Here, we will simulate the procedure to randomly pick a fruit from the two colored boxes that we used in our review of simple probability."
      ]
    },
    {
      "cell_type": "code",
      "metadata": {
        "id": "qdTFShLAY8cA",
        "colab_type": "code",
        "outputId": "4a0e489e-a19e-4de6-856c-a04f0a594b99",
        "colab": {
          "base_uri": "https://localhost:8080/",
          "height": 86
        }
      },
      "source": [
        "import numpy as np\n",
        "from tabulate import tabulate\n",
        "\n",
        "fruits = np.asarray(['apple', 'orange'])\n",
        "boxes = np.asarray(['red', 'blue'])\n",
        "\n",
        "Pb = np.asarray([0.4, 0.6])\n",
        "n_fruit = {'red': np.asarray([2, 6]), 'blue':np.asarray([3, 1])}\n",
        "\n",
        "# create table with conditional probabilites P(F|B)\n",
        "Pfgb = np.zeros((fruits.size, boxes.size), dtype=np.float)\n",
        "for j, box in enumerate(boxes):\n",
        "  Pfgb[:, j] = n_fruit[box] / np.sum(n_fruit[box])\n",
        "\n",
        "print(tabulate(np.concatenate((fruits[:,None], Pfgb), 1), headers=boxes))"
      ],
      "execution_count": 0,
      "outputs": [
        {
          "output_type": "stream",
          "text": [
            "          red    blue\n",
            "------  -----  ------\n",
            "apple    0.25    0.75\n",
            "orange   0.75    0.25\n"
          ],
          "name": "stdout"
        }
      ]
    },
    {
      "cell_type": "code",
      "metadata": {
        "id": "Ev04UvrFG57Z",
        "colab_type": "code",
        "colab": {}
      },
      "source": [
        ""
      ],
      "execution_count": 0,
      "outputs": []
    },
    {
      "cell_type": "markdown",
      "metadata": {
        "id": "NPDwxGGI8zWY",
        "colab_type": "text"
      },
      "source": [
        "# Check condtional probabilities sum to one\n",
        "We need to confirm that $\\sum_FP(F|B) = 1$\n",
        "This can be accomplished by summing the elements for each column of the array \n",
        "``` Pfgb ```\n",
        "\n"
      ]
    },
    {
      "cell_type": "code",
      "metadata": {
        "id": "wiW9yeHj9IkU",
        "colab_type": "code",
        "outputId": "c227b863-3b81-4f93-a36d-f2bfcaa9e478",
        "colab": {
          "base_uri": "https://localhost:8080/",
          "height": 34
        }
      },
      "source": [
        "print(Pfgb.sum(axis=0))"
      ],
      "execution_count": 0,
      "outputs": [
        {
          "output_type": "stream",
          "text": [
            "[1. 1.]\n"
          ],
          "name": "stdout"
        }
      ]
    },
    {
      "cell_type": "markdown",
      "metadata": {
        "id": "SeEQQknQ8G_b",
        "colab_type": "text"
      },
      "source": [
        "# Compute Joint probability from product rule\n",
        "We can compute $P(F,B) = P(F|B)P(B)$"
      ]
    },
    {
      "cell_type": "code",
      "metadata": {
        "id": "n6DA-Mh48XRT",
        "colab_type": "code",
        "outputId": "789eeae8-ca5a-48fe-e02f-8b336436d84e",
        "colab": {
          "base_uri": "https://localhost:8080/",
          "height": 86
        }
      },
      "source": [
        "Pfb = Pfgb*Pb[None, :] # broadcasting multiplication\n",
        "print(tabulate(np.concatenate((fruits[:,None], Pfb), 1), headers=boxes))\n"
      ],
      "execution_count": 0,
      "outputs": [
        {
          "output_type": "stream",
          "text": [
            "          red    blue\n",
            "------  -----  ------\n",
            "apple     0.1    0.45\n",
            "orange    0.3    0.15\n"
          ],
          "name": "stdout"
        }
      ]
    },
    {
      "cell_type": "markdown",
      "metadata": {
        "id": "5M61hE6g9t27",
        "colab_type": "text"
      },
      "source": [
        "# Check joint probabilities all sum to one\n",
        "We need to confirm that $\\sum_{F, B}P(F,B) = 1$\n",
        "This can be accomplished by summing all the elements  of the array \n",
        "``` Pfb ```\n"
      ]
    },
    {
      "cell_type": "code",
      "metadata": {
        "id": "PY4pNrDQ-Eo2",
        "colab_type": "code",
        "outputId": "b73086ce-1c29-4447-d57a-e0e28c446f04",
        "colab": {
          "base_uri": "https://localhost:8080/",
          "height": 34
        }
      },
      "source": [
        "print(Pfb.sum())"
      ],
      "execution_count": 0,
      "outputs": [
        {
          "output_type": "stream",
          "text": [
            "1.0\n"
          ],
          "name": "stdout"
        }
      ]
    },
    {
      "cell_type": "markdown",
      "metadata": {
        "id": "oj-6h4bS-SfF",
        "colab_type": "text"
      },
      "source": [
        "# Compute marginal $P(F)$\n",
        "THis can be accomplished by summing all the elements for each row of the array ```Pfb```\n",
        "\n"
      ]
    },
    {
      "cell_type": "code",
      "metadata": {
        "id": "hUoVBWDh-us9",
        "colab_type": "code",
        "outputId": "bb1fe0f7-ea94-4e28-9345-efc775f5056f",
        "colab": {
          "base_uri": "https://localhost:8080/",
          "height": 69
        }
      },
      "source": [
        "Pf = Pfb.sum(axis=1)\n",
        "print(tabulate([Pf.tolist()], headers=fruits))"
      ],
      "execution_count": 0,
      "outputs": [
        {
          "output_type": "stream",
          "text": [
            "  apple    orange\n",
            "-------  --------\n",
            "   0.55      0.45\n"
          ],
          "name": "stdout"
        }
      ]
    },
    {
      "cell_type": "markdown",
      "metadata": {
        "id": "5RwKp-RQAY_M",
        "colab_type": "text"
      },
      "source": [
        "# Create a function to pick a fruit\n",
        "Recall, we first pick one of the boxes with probability $P(B)$ and then one of the fruits with probability $P(F|B)$"
      ]
    },
    {
      "cell_type": "code",
      "metadata": {
        "id": "seR57wllBCMd",
        "colab_type": "code",
        "outputId": "4abb8e55-c9c6-435e-b995-c2a771c55cf2",
        "colab": {
          "base_uri": "https://localhost:8080/",
          "height": 34
        }
      },
      "source": [
        "def pickFruit():\n",
        "  b = np.random.choice(len(boxes),1, p=Pb[:])\n",
        "  f = np.random.choice(len(fruits), 1, p=Pfgb[:,b].squeeze())\n",
        "  return fruits[f].item(),boxes[b].item()\n",
        "\n",
        "print(pickFruit())"
      ],
      "execution_count": 0,
      "outputs": [
        {
          "output_type": "stream",
          "text": [
            "('orange', 'blue')\n"
          ],
          "name": "stdout"
        }
      ]
    },
    {
      "cell_type": "markdown",
      "metadata": {
        "id": "ADG0BumuHBE_",
        "colab_type": "text"
      },
      "source": [
        "# Run for $N$ trials and record fruit, box pairs\n",
        "We can run the ```pickFruit``` function N times and cummulate all outcomes using a dictionary "
      ]
    },
    {
      "cell_type": "code",
      "metadata": {
        "id": "puEXFPCrHxcj",
        "colab_type": "code",
        "outputId": "bbad31e5-66e9-4015-ac49-c78bdf8bc88e",
        "colab": {
          "base_uri": "https://localhost:8080/",
          "height": 34
        }
      },
      "source": [
        "N = 1000\n",
        "Nfb = {}\n",
        "for t in range(N):\n",
        "  fb = pickFruit()\n",
        "  if fb in Nfb.keys():\n",
        "    Nfb[fb] += 1\n",
        "  else:\n",
        "    Nfb[fb] = 1\n",
        "print(Nfb) "
      ],
      "execution_count": 0,
      "outputs": [
        {
          "output_type": "stream",
          "text": [
            "{('orange', 'blue'): 148, ('apple', 'blue'): 436, ('orange', 'red'): 296, ('apple', 'red'): 120}\n"
          ],
          "name": "stdout"
        }
      ]
    }
  ]
}